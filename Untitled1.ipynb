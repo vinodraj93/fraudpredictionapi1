{
 "cells": [
  {
   "cell_type": "code",
   "execution_count": null,
   "metadata": {},
   "outputs": [],
   "source": [
    "<!DOCTYPE html>\n",
    "<html >\n",
    "<!--From https://codepen.io/frytyler/pen/EGdtg-->\n",
    "<head>\n",
    "    <meta charset=\"UTF-8\">\n",
    "    <title>ML API</title>\n",
    "    <link href='https://fonts.googleapis.com/css?family=Pacifico' rel='stylesheet' type='text/css'>\n",
    "<link href='https://fonts.googleapis.com/css?family=Arimo' rel='stylesheet' type='text/css'>\n",
    "<link href='https://fonts.googleapis.com/css?family=Hind:300' rel='stylesheet' type='text/css'>\n",
    "<link href='https://fonts.googleapis.com/css?family=Open+Sans+Condensed:300' rel='stylesheet' type='text/css'>\n",
    "  \n",
    "</head>\n",
    "\n",
    "<body>\n",
    "    <div class=\"login\">\n",
    "                <h1>Predict Salary Analysis</h1>\n",
    "\n",
    "            <!-- Main Input For Receiving Query to our ML -->\n",
    "        <form action=\"{{ url_for('predict')}}\"method=\"post\">\n",
    "            <input type=\"text\" name=\"CreditScore\" placeholder=\"CreditScore\" required=\"required\" />\n",
    "            <input type=\"text\" name=\"Gender\" placeholder=\"Gender\" required=\"required\" />\n",
    "            <input type=\"text\" name=\"Age\" placeholder=\"Age\" required=\"required\" />\n",
    "            <input type=\"text\" name=\"Tenure\" placeholder=\"Tenure\" required=\"required\" />\n",
    "            <input type=\"text\" name=\"Balance\" placeholder=\"Balance\" required=\"required\" />\n",
    "            <input type=\"text\" name=\"NumOfProducts\" placeholder=\"NumOfProducts\" required=\"required\" />\n",
    "            <input type=\"text\" name=\"HasCrCard\" placeholder=\"HasCrCard\" required=\"required\" />\n",
    "            <input type=\"text\" name=\"IsActiveMember\" placeholder=\"IsActiveMember\" required=\"required\" />\n",
    "            <input type=\"text\" name=\"EstimatedSalary\" placeholder=\"EstimatedSalary\" required=\"required\" />\n",
    "            <input type=\"text\" name=\"Geography_France\" placeholder=\"Geography_France\" required=\"required\" />\n",
    "            <input type=\"text\" name=\"Geography_Germany\" placeholder=\"Geography_Germany\" required=\"required\" />\n",
    "            <input type=\"text\" name=\"Geography_Spain\" placeholder=\"Geography_Spain\" required=\"required\" />\n",
    "          \n",
    "\n",
    "            <button type=\"submit\" class=\"btn btn-primary btn-block btn-large\">Predict</button>\n",
    "        </form>\n",
    "\n",
    "        <br>\n",
    "        <br>\n",
    "        {{ prediction_text }}\n",
    "\n",
    "    </div>\n",
    "\n",
    "\n",
    "</body>\n",
    "</html>\n"
   ]
  }
 ],
 "metadata": {
  "kernelspec": {
   "display_name": "Python 3",
   "language": "python",
   "name": "python3"
  },
  "language_info": {
   "codemirror_mode": {
    "name": "ipython",
    "version": 3
   },
   "file_extension": ".py",
   "mimetype": "text/x-python",
   "name": "python",
   "nbconvert_exporter": "python",
   "pygments_lexer": "ipython3",
   "version": "3.7.3"
  }
 },
 "nbformat": 4,
 "nbformat_minor": 2
}
